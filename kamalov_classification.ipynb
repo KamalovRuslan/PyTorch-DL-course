{
 "cells": [
  {
   "cell_type": "code",
   "execution_count": 14,
   "metadata": {},
   "outputs": [],
   "source": [
    "import numpy as np\n",
    "import numpy.random as rnd\n",
    "\n",
    "import torch\n",
    "import torch.autograd as autograd\n",
    "from torch.autograd import Variable\n",
    "import torch.nn as nn\n",
    "import torch.nn.functional as F\n",
    "import torch.optim as optim\n",
    "import torch.utils.data\n",
    "from torch import FloatTensor, IntTensor, LongTensor\n",
    "\n",
    "from  torch.utils.data import TensorDataset, DataLoader, ConcatDataset\n",
    "\n",
    "import time\n",
    "import os\n",
    "import pandas as pd\n",
    "from sklearn.model_selection import train_test_split\n",
    "from sklearn.utils import shuffle\n",
    "from sklearn.metrics import accuracy_score"
   ]
  },
  {
   "cell_type": "markdown",
   "metadata": {},
   "source": [
    "#### Все места, где нужно дописать код отмечены TODO."
   ]
  },
  {
   "cell_type": "markdown",
   "metadata": {},
   "source": [
    "## Считывание и подготовка данных."
   ]
  },
  {
   "cell_type": "code",
   "execution_count": 2,
   "metadata": {},
   "outputs": [],
   "source": [
    "# Считываем данные: каждый класс лежит в своем csv файле. \n",
    "male = pd.read_csv('male.csv',header = None)[0]\n",
    "female = pd.read_csv('female.csv',header = None)[0]\n",
    "\n",
    "y = np.hstack((np.zeros(len(male)),np.ones(len(female))))\n",
    "data = list(male)\n",
    "data.extend(list(female))"
   ]
  },
  {
   "cell_type": "code",
   "execution_count": 3,
   "metadata": {},
   "outputs": [],
   "source": [
    "# Для дальнейшей работы нам понадобится словарь символов + \n",
    "# мы не будем различать строчные и прописные буквы + \n",
    "# у нас все последовательности разной длины и нам нужно понимать, какова макимальная длина + \n",
    "# нам нужен отдельный символ под паддинг, чтобы уметь работать с последовательностями разной длины\n",
    "MAX_LEN = 0\n",
    "chars = set()\n",
    "for i in range(len(data)):\n",
    "    data[i] = data[i].lower()\n",
    "    MAX_LEN = max(MAX_LEN,len(data[i]))\n",
    "    chars = chars.union(set(data[i][:]))\n",
    "    \n",
    "chars = list(chars)\n",
    "PAD_CHAR = '_PADDING_'\n",
    "chars = [PAD_CHAR] + sorted(chars)\n",
    "char_to_id = { ch:id for id,ch in enumerate(chars) }\n",
    "id_to_char = { id:ch for id,ch in enumerate(chars) }\n",
    "\n",
    "VOCAB_SIZE = len(chars)"
   ]
  },
  {
   "cell_type": "code",
   "execution_count": 4,
   "metadata": {},
   "outputs": [],
   "source": [
    "# Разделим выборку на трейн и тест\n",
    "X_train, X_test, y_train, y_test = train_test_split(data, y, test_size=0.3, random_state=42)"
   ]
  },
  {
   "cell_type": "code",
   "execution_count": 25,
   "metadata": {},
   "outputs": [],
   "source": [
    "def data2format(data, labels):\n",
    "    \"\"\"Функция преобразует выбоку данных в формат, подходящий для подачи в нейронную сеть.\n",
    "    \n",
    "    data - список строк (пример - X_train)\n",
    "    labels - вектор меток для строк из data (пример - y_train)\n",
    "    \n",
    "    Дальше за N обозначается число строк в data\n",
    "    \n",
    "    Вернуть нужно словарь со следующими элементами:\n",
    "    x - матрица размера [N, MAX_LEN], в которой каждая строка соответствует строке в data:\n",
    "        вся строка кодируется с помощью char_to_id, недостающие элементы в конце коротких строк заполняются символом PAD_CHAR\n",
    "    y - вектор длины N с метками\n",
    "    \n",
    "    \"\"\"\n",
    "    X = []\n",
    "    for row in data:\n",
    "        char_id = []\n",
    "        char_id = [char_to_id[x] for x in row]\n",
    "        char_id += [char_to_id[PAD_CHAR]] * (MAX_LEN - len(char_id))\n",
    "        X.append(char_id)\n",
    "    return {'x':np.array(X), 'y':labels}"
   ]
  },
  {
   "cell_type": "code",
   "execution_count": 26,
   "metadata": {},
   "outputs": [],
   "source": [
    "train_data = data2format(X_train,y_train)\n",
    "test_data = data2format(X_test,y_test)"
   ]
  },
  {
   "cell_type": "code",
   "execution_count": 27,
   "metadata": {},
   "outputs": [],
   "source": [
    "# Необходимые константы\n",
    "NUM_EPOCHS = 20\n",
    "BATCH_SIZE = 50\n",
    "SEQ_LEN = 20\n",
    "LEARNING_RATE = 0.01\n",
    "GRAD_CLIP = 100"
   ]
  },
  {
   "cell_type": "markdown",
   "metadata": {},
   "source": [
    "## Вспомогательные функции"
   ]
  },
  {
   "cell_type": "code",
   "execution_count": 28,
   "metadata": {},
   "outputs": [],
   "source": [
    "# Технические вещи\n",
    "\n",
    "# Вспомогательная функция для запаковки результата обучения \n",
    "def pack(train_err, train_acc, test_err, test_acc, network):\n",
    "    return {'train_err':train_err, \n",
    "        'train_acc':train_acc, \n",
    "        'test_err':test_err, \n",
    "        'test_acc':test_acc, \n",
    "        'network':network\n",
    "           } \n",
    "\n",
    "# устойчивая реализация кросс-энтропии\n",
    "def BinaryCrossentropy(probs, labels):\n",
    "    probs = probs[:, 0]\n",
    "    probs = torch.clamp(probs, 1e-7, 1-1e-7)\n",
    "    labels = labels.type(probs.data.type())\n",
    "    return -(labels * torch.log(probs) + (1 - labels) * (torch.log(1 - probs))).mean()"
   ]
  },
  {
   "cell_type": "markdown",
   "metadata": {},
   "source": [
    "## Нейронная сеть"
   ]
  },
  {
   "cell_type": "markdown",
   "metadata": {},
   "source": [
    "В простейшем случае мы будем использовать сеть, которая считывает входную последовательность, и выдает результат только в самом конце."
   ]
  },
  {
   "cell_type": "code",
   "execution_count": 29,
   "metadata": {},
   "outputs": [],
   "source": [
    "def create_variable(tensor):\n",
    "    if torch.cuda.is_available():\n",
    "        return Variable(tensor.cuda())\n",
    "    else:\n",
    "        return Variable(tensor)\n",
    "\n",
    "\n",
    "def pad_sequences(names, genders):\n",
    "    seq_tensor = names[:,:-1]\n",
    "    lengths = names[:,-1]\n",
    "    lengths, perm_idx = lengths.sort(0, descending=True)\n",
    "    seq_tensor = seq_tensor[perm_idx]\n",
    "\n",
    "    if len(genders):\n",
    "        genders = genders[perm_idx]\n",
    "\n",
    "    return create_variable(seq_tensor), \\\n",
    "        create_variable(lengths), \\\n",
    "        create_variable(genders)"
   ]
  },
  {
   "cell_type": "code",
   "execution_count": 45,
   "metadata": {},
   "outputs": [],
   "source": [
    "def create_output(outputs, lengths):\n",
    "    result = [out[lengths[i] - 1] for i, out in enumerate(outputs)]\n",
    "    return orch.stack(result)"
   ]
  },
  {
   "cell_type": "code",
   "execution_count": 30,
   "metadata": {},
   "outputs": [],
   "source": [
    "# Для работы с последовательностями разной длины стоит использовать эти функции.\n",
    "# Обратите внимание, что последователньости нужно отсортировать перед подачей в pack_padded_sequence.\n",
    "from torch.nn.utils.rnn import pack_padded_sequence, pad_packed_sequence\n",
    "\n",
    "class Net(nn.Module):\n",
    "    \"\"\"Класс задает простейшую рекуррентную сеть, которая принимает на вход батч размера [BATCH_SIZE, MAX_LEN] \n",
    "    и применяет к нему следующие преобразования:\n",
    "    \n",
    "    1. Embedding для перевода кодировки символов в нормальное представление: VOCAB_SIZE -> emb_size\n",
    "    2. Рекуррентный слой c n_hidden элементов на скрытом слое. Из этого слоя нам нужно только выход в последний момент времени.\n",
    "    3. Полносвязный слой для бинарной классификации с sigmoid в качестве нелинейности.\n",
    "    \n",
    "    * Обратите внимание на параметр batch_first у рекуррентного слоя.\n",
    "    \"\"\"\n",
    "    def __init__(self, embedding_dim, hidden_dim, vocab_size, batch_size):\n",
    "        super(Net, self).__init__()          \n",
    "        self.encoder = nn.Embedding(vocab_size, embedding_dim)\n",
    "        self.rnn = nn.RNN(embedding_dim, hidden_dim, 1, batch_first=True)\n",
    "        self.decoder = nn.Linear(hidden_dim, 1)\n",
    "        self.sigmoid = nn.Sigmoid\n",
    "\n",
    "    def forward(self, names, lengths):\n",
    "        enc = self.encoder(names)\n",
    "        out = pack_padded_sequence(enc, lengths, batch_first=True)\n",
    "        out, hidden = self.rnn(out)\n",
    "        outputs, _ = pad_packed_sequence(out, batch_first=True)\n",
    "        out = create_output(outputs, lengths)\n",
    "        dec = self.decoder(out)\n",
    "        return self.sigmoid(dec)"
   ]
  },
  {
   "cell_type": "code",
   "execution_count": 31,
   "metadata": {},
   "outputs": [],
   "source": [
    "def acc(out, target):\n",
    "    out    = out.data.numpy().astype(int)\n",
    "    target = target.data.numpy().astype(int)\n",
    "    return accuracy_score(out, target)"
   ]
  },
  {
   "cell_type": "code",
   "execution_count": 78,
   "metadata": {},
   "outputs": [],
   "source": [
    "def prepare_for_pad(data, labels):\n",
    "    result = np.column_stack((data, labels))\n",
    "    result = np.column_stack((result, np.count_nonzero(batch_data, axis=1)))\n",
    "    result = result[(-1 * sort_data[:, MAX_LEN + 1]).argsort()]\n",
    "    return (result[:, :MAX_LEN], result[:, MAX_LEN])"
   ]
  },
  {
   "cell_type": "code",
   "execution_count": 70,
   "metadata": {},
   "outputs": [],
   "source": [
    "def train(train_data, test_data, emb_size, n_hidden, show = False):\n",
    "    \"\"\"Функция обучает нейросеть по данным train_data + контролирует процесс по качеству на test_data\n",
    "    Следует обратить внимание на следующее:\n",
    "    1. Сеть будем учить NUM_EPOCHS эпох, в каждой из столько батчей, сколько есть в train_data\n",
    "    2. Генерировать батчи можно с помощью батчгенератора pytorch. Для этого пригодятся torch.utils.data.TensorDataset\n",
    "        и torch.utils.data.DataLoader.\n",
    "    3. Для того, чтобы следить за процессом обучения будем считать средний loss и \n",
    "        среднюю точность классификации на всех батчах трейна и теста и сохранять эти данные \n",
    "        в соответствующие массивы. \n",
    "    4. Перед тем, как делать шаг по градиенту, будем ограничивать градиент по норме значением GRAD_CLIP\n",
    "    \n",
    "    \"\"\"\n",
    "    print(\"Prepare data ...\")\n",
    "    \n",
    "    train_tensordataset = TensorDataset(data_tensor=LongTensor(train_data['x'].tolist()),\n",
    "                                        target_tensor=LongTensor(train_data['y'].astype(int).tolist()))    \n",
    "    test_tensordataset  = TensorDataset(data_tensor=LongTensor(test_data['x'].tolist()),\n",
    "                                        target_tensor=LongTensor(test_data['y'].astype(int).tolist()))   \n",
    "    \n",
    "    train_loader = DataLoader(train_tensordataset, batch_size=BATCH_SIZE, shuffle=True)\n",
    "    test_loader  = DataLoader(test_tensordataset, batch_size=BATCH_SIZE, shuffle=True)\n",
    "\n",
    "    train_size = len(train_data['x'])\n",
    "    test_size = len(test_data['x'])\n",
    "    num_train_batches = train_size / BATCH_SIZE\n",
    "    num_test_batches = test_size / BATCH_SIZE\n",
    "    train_err=np.zeros(NUM_EPOCHS)\n",
    "    train_acc=np.zeros(NUM_EPOCHS)\n",
    "    test_err=np.zeros(NUM_EPOCHS)\n",
    "    test_acc=np.zeros(NUM_EPOCHS)\n",
    "\n",
    "    print(\"Building network ...\")\n",
    "    net = Net(emb_size, n_hidden, VOCAB_SIZE, BATCH_SIZE)\n",
    "    net.train()\n",
    "    print(\"The network has {} params\".format(sum([x.data.numel() for x in net.parameters()])))\n",
    "    \n",
    "    optimizer = optim.Adam(net.parameters(), lr=LEARNING_RATE)\n",
    "\n",
    "    print(\"Training ...\")\n",
    "    for epoch in range(NUM_EPOCHS):\n",
    "        start_time = time.time()            \n",
    "        for i, batch in enumerate(train_loader):                     \n",
    "            \n",
    "            data, labels = batch[0], batch[1]\n",
    "            batch_data, label_data = prepare_for_pad(data, labels)\n",
    "            lengths = np.count_nonzero(data, axis=1)\n",
    "            net.zero_grad()\n",
    "            \n",
    "            data = Variable(torch.LongTensor(data))\n",
    "            labels = Variable(torch.LongTensor(labels))      \n",
    "            out = net(data, lengths)\n",
    "            \n",
    "            loss = BinaryCrossentropy(output, label_data)\n",
    "            loss.backward()\n",
    "            \n",
    "            nn.utils.clip_grad_norm(net.parameters(), GRAD_CLIP)\n",
    "            optimizer.step()\n",
    "            train_err[epoch] += loss\n",
    "            train_acc[epoch] += acc(out, labels)   \n",
    "            \n",
    "        for i, batch in enumerate(test_loader):          \n",
    "            data, labels = batch[0], batch[1]\n",
    "            batch_data, label_data = prepare_for_pad(data, labels)\n",
    "            lengths = np.count_nonzero(data, axis=1)\n",
    "            net.zero_grad()\n",
    "            \n",
    "            data = Variable(torch.LongTensor(data))\n",
    "            labels = Variable(torch.LongTensor(labels))      \n",
    "            out = net(data, lengths)\n",
    "            \n",
    "            loss = BinaryCrossentropy(output, label_data)\n",
    "            loss.backward()\n",
    "            \n",
    "            nn.utils.clip_grad_norm(net.parameters(), GRAD_CLIP)\n",
    "            optimizer.step()\n",
    "            train_err[epoch] += loss\n",
    "            train_acc[epoch] += acc(out, labels)   \n",
    "            \n",
    "        train_err[epoch] /= num_train_batches\n",
    "        train_acc[epoch] /= num_train_batches\n",
    "        test_err[epoch] /=  num_test_batches\n",
    "        test_acc[epoch] /=  num_test_batches\n",
    "    \n",
    "        print(\"Epoch {} \\t loss / accuracy test = {:.4f}, {:.4f} \\t train = {:.4f}, {:.4f} \\t time = {:.2f}s\".\n",
    "              format(epoch, test_err[epoch],test_acc[epoch], \n",
    "                     train_err[epoch],  train_acc[epoch],time.time() - start_time))\n",
    "             \n",
    "    return pack(train_err, train_acc, test_err, test_acc, net)"
   ]
  },
  {
   "cell_type": "markdown",
   "metadata": {},
   "source": [
    "Перед тем, как запускать обучение большой сети на большое число эпох, проверьте, что маленькая сеть выдает вменяемые результаты: качество больше 50%."
   ]
  },
  {
   "cell_type": "code",
   "execution_count": 33,
   "metadata": {},
   "outputs": [
    {
     "name": "stdout",
     "output_type": "stream",
     "text": [
      "Prepare data ...\n",
      "Building network ...\n",
      "The network has 15501 params\n",
      "Training ...\n",
      "Epoch 0 \t loss / accuracy test = 0.4416, 0.7821 \t train = 0.4894, 0.7592 \t time = 2.05s\n",
      "Epoch 1 \t loss / accuracy test = 0.4392, 0.8014 \t train = 0.4471, 0.7890 \t time = 1.95s\n",
      "Epoch 2 \t loss / accuracy test = 0.4086, 0.8077 \t train = 0.4035, 0.8171 \t time = 2.01s\n",
      "Epoch 3 \t loss / accuracy test = 0.3868, 0.8285 \t train = 0.3586, 0.8423 \t time = 1.96s\n",
      "Epoch 4 \t loss / accuracy test = 0.3981, 0.8224 \t train = 0.3231, 0.8673 \t time = 1.97s\n",
      "Epoch 5 \t loss / accuracy test = 0.3902, 0.8363 \t train = 0.2987, 0.8824 \t time = 1.97s\n",
      "Epoch 6 \t loss / accuracy test = 0.3913, 0.8346 \t train = 0.2894, 0.8827 \t time = 1.97s\n",
      "Epoch 7 \t loss / accuracy test = 0.3919, 0.8362 \t train = 0.2808, 0.8890 \t time = 1.92s\n",
      "Epoch 8 \t loss / accuracy test = 0.3921, 0.8348 \t train = 0.2777, 0.8897 \t time = 1.92s\n",
      "Epoch 9 \t loss / accuracy test = 0.3924, 0.8344 \t train = 0.2758, 0.8921 \t time = 1.90s\n",
      "Epoch 10 \t loss / accuracy test = 0.3918, 0.8348 \t train = 0.2749, 0.8932 \t time = 1.85s\n",
      "Epoch 11 \t loss / accuracy test = 0.3921, 0.8354 \t train = 0.2764, 0.8930 \t time = 1.86s\n",
      "Epoch 12 \t loss / accuracy test = 0.3920, 0.8358 \t train = 0.2714, 0.8942 \t time = 2.06s\n",
      "Epoch 13 \t loss / accuracy test = 0.3922, 0.8356 \t train = 0.2688, 0.8969 \t time = 1.95s\n",
      "Epoch 14 \t loss / accuracy test = 0.3929, 0.8352 \t train = 0.2680, 0.8971 \t time = 2.05s\n",
      "Epoch 15 \t loss / accuracy test = 0.3934, 0.8338 \t train = 0.2677, 0.8971 \t time = 2.01s\n",
      "Epoch 16 \t loss / accuracy test = 0.3938, 0.8339 \t train = 0.2641, 0.9005 \t time = 1.92s\n",
      "Epoch 17 \t loss / accuracy test = 0.3951, 0.8322 \t train = 0.2643, 0.9011 \t time = 1.99s\n",
      "Epoch 18 \t loss / accuracy test = 0.3942, 0.8321 \t train = 0.2624, 0.9013 \t time = 1.99s\n",
      "Epoch 19 \t loss / accuracy test = 0.3947, 0.8318 \t train = 0.2592, 0.9036 \t time = 2.06s\n"
     ]
    }
   ],
   "source": [
    "model = train(train_data, test_data, 40, 100)"
   ]
  },
  {
   "cell_type": "markdown",
   "metadata": {},
   "source": [
    "## Посмотрим что из этого вышло"
   ]
  },
  {
   "cell_type": "code",
   "execution_count": 41,
   "metadata": {},
   "outputs": [],
   "source": [
    "def predict(name, model):\n",
    "    \"\"\"Функция выдает предсказание обученной модели model для имени name.\n",
    "    Предсказание - число из [0,1] - вероятность того, что имя женское\n",
    "    \"\"\"\n",
    "    data = np.ones((1, MAX_LEN), int) * char_to_id['_PADDING_']\n",
    "    for i, ch in enumerate(list(name)):\n",
    "        data[0, i] = char_to_id[ch]\n",
    "    data = Variable(LongTensor(data))\n",
    "    pred = model['network'](data, np.array([len(name)]))[:, 0].data.numpy()[0]\n",
    "    return pred"
   ]
  },
  {
   "cell_type": "code",
   "execution_count": 42,
   "metadata": {},
   "outputs": [],
   "source": [
    "dataset = set(data)"
   ]
  },
  {
   "cell_type": "code",
   "execution_count": 43,
   "metadata": {},
   "outputs": [
    {
     "name": "stdout",
     "output_type": "stream",
     "text": [
      "This is a new name\n",
      "0.1696\n",
      "It's male name\n",
      "0.1696\n"
     ]
    }
   ],
   "source": [
    "name = 'Yaroslav'.lower()\n",
    "if name in dataset:\n",
    "    print('This name is in our dataset')\n",
    "else:\n",
    "    print('This is a new name')\n",
    "pred = predict(name, model)\n",
    "print(pred)\n",
    "if pred>=0.5:\n",
    "    print(\"It's female name\")\n",
    "else:\n",
    "    print(\"It's male name\")\n",
    "print(pred)"
   ]
  },
  {
   "cell_type": "code",
   "execution_count": 44,
   "metadata": {},
   "outputs": [
    {
     "name": "stdout",
     "output_type": "stream",
     "text": [
      "This is a new name\n",
      "It's female name\n",
      "0.9944\n"
     ]
    }
   ],
   "source": [
    "name = 'Polina'.lower()\n",
    "if name in dataset:\n",
    "    print('This name is in our dataset')\n",
    "else:\n",
    "    print('This is a new name')\n",
    "pred = predict(name, model)\n",
    "if pred>=0.5:\n",
    "    print(\"It's female name\")\n",
    "else:\n",
    "    print(\"It's male name\")\n",
    "print(pred)"
   ]
  },
  {
   "cell_type": "markdown",
   "metadata": {},
   "source": [
    "## Дополнительные пункты"
   ]
  },
  {
   "cell_type": "markdown",
   "metadata": {},
   "source": [
    "1. Обучение более сложной модели и контроль переобучения. Попробуйте подобрать хорошую модель RNN для данной задачи. Для этого проанализируйте качество работы модели в зависимости от ее размеров, попробуйте использовать многослойную сеть. Также нужно проконтролировать переобучение моделей. Для этого можно выделить тестовый кусок из текста и смотреть на то, как меняется loss на нем в процессе обучения. Если на графиках видно переобучение, то стоит добавить dropout слои в модель (обычный dropout до, между и после рекуррентных слоев). При использовании дропаута на стадии предсказания для нового объекта нужно ставить флаг deterministic=True.\n",
    "2. Другая архитектура 1. Попробуйте использовать не только состоянию скрытых переменных в последний момент времени, а усреднение/максимум значений скрытых переменных во все моменты времени. Попробуйте двунаправленную сеть при таком подходе. \n",
    "3. Другая архитектура 2. Попробуйте использовать не только состоянию скрытых переменных в последний момент времени, а сумму значений скрытых переменных во все моменты времени с коэффициентами attention. Попробуйте двунаправленную сеть при таком подходе. Attention коэффициент для определенного момента времени может представлять собой просто линейную комбинацию значений скрытых переменных в этот момент времени с обучаемыми весами.\n",
    "3. Визуализация. Попробуйте провизуализировать результаты. Например, для стандартной архитектуры можно посмотреть на изменение предсказания во времени: на каких элементах предсказание значительнее всего изменяется в сторону одного или другого класса? При использовании схемы из 2/3 пункта, можно смотреть на вклад каждого момента времени в результат. Так как после рекуррентного слоя у нас стоит просто линейный классификатор, то можно посмотреть, что выдает этот классификатор при применении к скрытым переменным в каждый момент времени. Таким образом выделяться те буквы, которые голосуют за один класс и те, которые голосуют за другой.\n",
    "4. Batchnorm и Layernorm. Запрограммируйте RNN c layer normalization из статьи [Lei Ba et al., 2016]. Поэкспериментируйте с применением обычной batch normalization и layer normalization, сравните результаты."
   ]
  },
  {
   "cell_type": "markdown",
   "metadata": {},
   "source": [
    "Рассмотрим 2-слойную LSTM с dropout"
   ]
  },
  {
   "cell_type": "code",
   "execution_count": 75,
   "metadata": {},
   "outputs": [],
   "source": [
    "class Net(nn.Module):\n",
    "    def __init__(self, embedding_dim, hidden_dim, vocab_size, batch_size):\n",
    "        super(Net, self).__init__()          \n",
    "        self.encoder = nn.Embedding(vocab_size, embedding_dim)\n",
    "        self.lstm = nn.LSTM(input_size=embedding_dim, hidden_size=hidden_dim, num_layers=2, batch_first=True)\n",
    "        self.decoder = nn.Linear(hidden_dim, 1)\n",
    "        self.sigmoid = nn.Sigmoid\n",
    "\n",
    "    def forward(self, names, lengths):\n",
    "        enc = self.encoder(names)\n",
    "        out = pack_padded_sequence(enc, lengths, batch_first=True)\n",
    "        out, (h, c) = self.lstm(out)\n",
    "        outputs, _ = pad_packed_sequence(out, batch_first=True)\n",
    "        out = create_output(outputs, lengths)\n",
    "        dec = self.decoder(out)\n",
    "        return self.sigmoid(dec)"
   ]
  },
  {
   "cell_type": "code",
   "execution_count": 76,
   "metadata": {},
   "outputs": [
    {
     "name": "stdout",
     "output_type": "stream",
     "text": [
      "Prepare data ...\n",
      "Building network ...\n",
      "The network has 138901 params\n",
      "Training ...\n",
      "Epoch 0 \t loss / accuracy test = 0.4254, 0.8067 \t train = 0.4754, 0.7658 \t time = 4.71s\n",
      "Epoch 1 \t loss / accuracy test = 0.3989, 0.8119 \t train = 0.4126, 0.8117 \t time = 4.64s\n",
      "Epoch 2 \t loss / accuracy test = 0.3878, 0.8230 \t train = 0.3558, 0.8462 \t time = 4.78s\n",
      "Epoch 3 \t loss / accuracy test = 0.3911, 0.8249 \t train = 0.2987, 0.8727 \t time = 4.92s\n",
      "Epoch 4 \t loss / accuracy test = 0.4056, 0.8212 \t train = 0.2569, 0.8935 \t time = 4.82s\n",
      "Epoch 5 \t loss / accuracy test = 0.4200, 0.8210 \t train = 0.2312, 0.9065 \t time = 4.94s\n",
      "Epoch 6 \t loss / accuracy test = 0.4281, 0.8230 \t train = 0.2216, 0.9121 \t time = 4.84s\n",
      "Epoch 7 \t loss / accuracy test = 0.4352, 0.8238 \t train = 0.2092, 0.9165 \t time = 4.99s\n",
      "Epoch 8 \t loss / accuracy test = 0.4360, 0.8243 \t train = 0.2053, 0.9174 \t time = 5.07s\n",
      "Epoch 9 \t loss / accuracy test = 0.4366, 0.8252 \t train = 0.2032, 0.9180 \t time = 4.93s\n",
      "Epoch 10 \t loss / accuracy test = 0.4392, 0.8256 \t train = 0.2011, 0.9189 \t time = 4.84s\n",
      "Epoch 11 \t loss / accuracy test = 0.4424, 0.8254 \t train = 0.1993, 0.9192 \t time = 4.93s\n",
      "Epoch 12 \t loss / accuracy test = 0.4463, 0.8241 \t train = 0.1973, 0.9196 \t time = 4.76s\n",
      "Epoch 13 \t loss / accuracy test = 0.4476, 0.8247 \t train = 0.1946, 0.9207 \t time = 4.99s\n",
      "Epoch 14 \t loss / accuracy test = 0.4521, 0.8243 \t train = 0.1938, 0.9221 \t time = 5.04s\n",
      "Epoch 15 \t loss / accuracy test = 0.4537, 0.8251 \t train = 0.1921, 0.9223 \t time = 4.95s\n",
      "Epoch 16 \t loss / accuracy test = 0.4569, 0.8250 \t train = 0.1893, 0.9232 \t time = 4.82s\n",
      "Epoch 17 \t loss / accuracy test = 0.4612, 0.8250 \t train = 0.1889, 0.9219 \t time = 4.65s\n",
      "Epoch 18 \t loss / accuracy test = 0.4632, 0.8254 \t train = 0.1853, 0.9243 \t time = 4.80s\n",
      "Epoch 19 \t loss / accuracy test = 0.4648, 0.8235 \t train = 0.1840, 0.9239 \t time = 4.67s\n"
     ]
    }
   ],
   "source": [
    "model = train(train_data, test_data, 40, 100)"
   ]
  },
  {
   "cell_type": "code",
   "execution_count": 83,
   "metadata": {},
   "outputs": [
    {
     "data": {
      "image/png": "[encoded data removed]",
      "text/plain": [
       "<matplotlib.figure.Figure at 0x7f9a91d148d0>"
      ]
     },
     "metadata": {},
     "output_type": "display_data"
    }
   ],
   "source": [
    "import matplotlib.pyplot as plt\n",
    "plt.plot(model['train_err'], label='train')\n",
    "plt.plot(model['test_err'], label='test')\n",
    "plt.xlabel('epoch')\n",
    "plt.ylabel('loss')\n",
    "plt.grid()\n",
    "plt.legend()\n",
    "plt.show()"
   ]
  },
  {
   "cell_type": "code",
   "execution_count": 84,
   "metadata": {},
   "outputs": [
    {
     "data": {
      "image/png": "[encoded data removed]",
      "text/plain": [
       "<matplotlib.figure.Figure at 0x7f9a91d14048>"
      ]
     },
     "metadata": {},
     "output_type": "display_data"
    }
   ],
   "source": [
    "plt.plot(model['train_acc'], label='train')\n",
    "plt.plot(model['test_acc'], label='test')\n",
    "plt.xlabel('epoch')\n",
    "plt.ylabel('accuracy')\n",
    "plt.grid()\n",
    "plt.legend()\n",
    "plt.show()"
   ]
  },
  {
   "cell_type": "markdown",
   "metadata": {},
   "source": [
    "Даже с добавлением dropout'а LSTM переобучается, возможно два слоя в этой задаче слишком много."
   ]
  }
 ],
 "metadata": {
  "kernelspec": {
   "display_name": "Python 3",
   "language": "python",
   "name": "python3"
  },
  "language_info": {
   "codemirror_mode": {
    "name": "ipython",
    "version": 3
   },
   "file_extension": ".py",
   "mimetype": "text/x-python",
   "name": "python",
   "nbconvert_exporter": "python",
   "pygments_lexer": "ipython3",
   "version": "3.5.2"
  }
 },
 "nbformat": 4,
 "nbformat_minor": 1
}
